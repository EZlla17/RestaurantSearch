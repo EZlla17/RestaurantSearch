{
 "cells": [
  {
   "cell_type": "code",
   "execution_count": 1,
   "id": "dfd7bddf",
   "metadata": {},
   "outputs": [],
   "source": [
    "import numpy as np\n",
    "import pandas as pd\n",
    "import ast\n",
    "import json"
   ]
  },
  {
   "cell_type": "code",
   "execution_count": 2,
   "id": "a08c491b",
   "metadata": {
    "scrolled": true
   },
   "outputs": [
    {
     "name": "stdout",
     "output_type": "stream",
     "text": [
      "(266, 12)\n"
     ]
    }
   ],
   "source": [
    "dat = pd.read_csv(\"yelp_boston.csv\")\n",
    "dat = dat.dropna().reset_index()\n",
    "print(dat.shape)"
   ]
  },
  {
   "cell_type": "code",
   "execution_count": 3,
   "id": "0848d46c",
   "metadata": {},
   "outputs": [
    {
     "data": {
      "text/plain": [
       "array(['Financial District', 'North End', 'Waterfront', 'East Boston',\n",
       "       'Downtown', 'South End', 'Beacon Hill', 'Back Bay', 'South Boston',\n",
       "       'Chinatown', 'Allston/Brighton', 'Charlestown',\n",
       "       'Kendall Square/MIT', 'Dorchester', 'Teele Square',\n",
       "       'Jamaica Plain', 'Inman Square', 'Harvard Square', 'Fenway',\n",
       "       'Mission Hill', 'Porter Square', 'North Cambridge', 'West Roxbury',\n",
       "       'Coolidge Corner'], dtype=object)"
      ]
     },
     "execution_count": 3,
     "metadata": {},
     "output_type": "execute_result"
    }
   ],
   "source": [
    "dat[\"neighborhood\"].unique()"
   ]
  },
  {
   "cell_type": "code",
   "execution_count": 4,
   "id": "c2fc302a",
   "metadata": {},
   "outputs": [
    {
     "name": "stdout",
     "output_type": "stream",
     "text": [
      "18\n"
     ]
    },
    {
     "data": {
      "text/plain": [
       "search category\n",
       "pizza            20\n",
       "newamerican      17\n",
       "sandwiches       17\n",
       "italian          17\n",
       "japanese         17\n",
       "restaurants      16\n",
       "mexican          16\n",
       "vietnamese       16\n",
       "bakeries         16\n",
       "chinese          16\n",
       "coffee           16\n",
       "sushi            16\n",
       "cafes            16\n",
       "indpak           12\n",
       "french           11\n",
       "thai              9\n",
       "donuts            9\n",
       "ethnicmarkets     9\n",
       "Name: count, dtype: int64"
      ]
     },
     "execution_count": 4,
     "metadata": {},
     "output_type": "execute_result"
    }
   ],
   "source": [
    "print(len(dat[\"search category\"].unique()))\n",
    "dat[\"search category\"].value_counts()"
   ]
  },
  {
   "cell_type": "code",
   "execution_count": 5,
   "id": "49fd2aa6",
   "metadata": {},
   "outputs": [],
   "source": [
    "dat['categories_json'] = dat['categories_json'].apply(lambda x: ast.literal_eval(x) if isinstance(x, str) else x)\n",
    "dat['categories_json'] = dat['categories_json'].apply(lambda lst: [item[0] for item in lst])\n",
    "max_categories = max(dat['categories_json'].apply(len))\n",
    "for i in range(max_categories):\n",
    "    dat[f'category{i+1}'] = dat['categories_json'].apply(lambda x: x[i] if i < len(x) else None)\n",
    "dat = dat.drop(columns=['categories_json'])"
   ]
  },
  {
   "cell_type": "code",
   "execution_count": 6,
   "id": "8e8523e4",
   "metadata": {},
   "outputs": [],
   "source": [
    "columns_except_category = [col for col in dat.columns if col != \"search category\"]\n",
    "new_dat = pd.DataFrame(columns=columns_except_category + [\"search category1\", \"search category2\", \"search category3\"])\n",
    "\n",
    "for n in dat[\"name\"].unique():\n",
    "    d = dat[dat[\"name\"] == n]\n",
    "    unique_categories = d[\"search category\"].unique().tolist()\n",
    "    \n",
    "    while len(unique_categories) < 3:\n",
    "        unique_categories += [None, None]\n",
    "\n",
    "    unique_categories = unique_categories[:3]\n",
    "    row = d.iloc[0][columns_except_category].tolist() + unique_categories\n",
    "    new_dat.loc[len(new_dat)] = row\n",
    "\n",
    "dat = new_dat"
   ]
  },
  {
   "cell_type": "code",
   "execution_count": 7,
   "id": "7cf860d4",
   "metadata": {},
   "outputs": [
    {
     "name": "stdout",
     "output_type": "stream",
     "text": [
      "pizza            19\n",
      "japanese         17\n",
      "italian          17\n",
      "newamerican      17\n",
      "sandwiches       17\n",
      "restaurants      16\n",
      "bakeries         16\n",
      "mexican          16\n",
      "chinese          16\n",
      "sushi            16\n",
      "cafes            15\n",
      "coffee           15\n",
      "vietnamese       14\n",
      "indpak           12\n",
      "french           11\n",
      "thai              9\n",
      "ethnicmarkets     9\n",
      "donuts            8\n",
      "Name: count, dtype: int64\n"
     ]
    }
   ],
   "source": [
    "category_counts = dat[[\"search category1\", \"search category2\", \"search category3\"]].stack().value_counts()\n",
    "print(category_counts)"
   ]
  },
  {
   "cell_type": "code",
   "execution_count": 8,
   "id": "6752c9e1",
   "metadata": {},
   "outputs": [
    {
     "name": "stdout",
     "output_type": "stream",
     "text": [
      "3.5\n",
      "5.0\n"
     ]
    },
    {
     "data": {
      "text/plain": [
       "array([4.5, 4. , 5. , 3.5])"
      ]
     },
     "execution_count": 8,
     "metadata": {},
     "output_type": "execute_result"
    }
   ],
   "source": [
    "print(dat[\"rating\"].min())\n",
    "print(dat[\"rating\"].max())\n",
    "dat[\"rating\"].unique()"
   ]
  },
  {
   "cell_type": "code",
   "execution_count": 9,
   "id": "a9474a20",
   "metadata": {},
   "outputs": [],
   "source": [
    "dat[\"location_json\"] = dat[\"location_json\"].apply(lambda x: json.loads(x) if isinstance(x, str) else x)\n",
    "dat[\"display_address\"] = dat[\"location_json\"].apply(lambda x: \", \".join(x[\"display_address\"]) if isinstance(x, dict) and \"display_address\" in x else \"\")\n",
    "dat.drop(columns=[\"location_json\"], inplace=True)"
   ]
  },
  {
   "cell_type": "code",
   "execution_count": 10,
   "id": "89ea99c8",
   "metadata": {},
   "outputs": [
    {
     "data": {
      "text/html": [
       "<div>\n",
       "<style scoped>\n",
       "    .dataframe tbody tr th:only-of-type {\n",
       "        vertical-align: middle;\n",
       "    }\n",
       "\n",
       "    .dataframe tbody tr th {\n",
       "        vertical-align: top;\n",
       "    }\n",
       "\n",
       "    .dataframe thead th {\n",
       "        text-align: right;\n",
       "    }\n",
       "</style>\n",
       "<table border=\"1\" class=\"dataframe\">\n",
       "  <thead>\n",
       "    <tr style=\"text-align: right;\">\n",
       "      <th></th>\n",
       "      <th>index</th>\n",
       "      <th>name</th>\n",
       "      <th>url</th>\n",
       "      <th>review_count</th>\n",
       "      <th>rating</th>\n",
       "      <th>snippet_text</th>\n",
       "      <th>neighborhood</th>\n",
       "      <th>latitude</th>\n",
       "      <th>longitude</th>\n",
       "      <th>category1</th>\n",
       "      <th>category2</th>\n",
       "      <th>category3</th>\n",
       "      <th>category4</th>\n",
       "      <th>search category1</th>\n",
       "      <th>search category2</th>\n",
       "      <th>search category3</th>\n",
       "      <th>display_address</th>\n",
       "    </tr>\n",
       "  </thead>\n",
       "  <tbody>\n",
       "    <tr>\n",
       "      <th>0</th>\n",
       "      <td>0</td>\n",
       "      <td>Wheelhouse</td>\n",
       "      <td>http://www.yelp.com/biz/wheelhouse-boston-3</td>\n",
       "      <td>101</td>\n",
       "      <td>4.5</td>\n",
       "      <td>After going to Wheelhouse, you'll never order ...</td>\n",
       "      <td>Financial District</td>\n",
       "      <td>42.357926</td>\n",
       "      <td>-71.053962</td>\n",
       "      <td>Breakfast &amp; Brunch</td>\n",
       "      <td>Burgers</td>\n",
       "      <td>Sandwiches</td>\n",
       "      <td>None</td>\n",
       "      <td>restaurants</td>\n",
       "      <td>sandwiches</td>\n",
       "      <td>None</td>\n",
       "      <td>63 Broad St, Financial District, Boston, MA 02109</td>\n",
       "    </tr>\n",
       "    <tr>\n",
       "      <th>1</th>\n",
       "      <td>1</td>\n",
       "      <td>Tenoch Mexican</td>\n",
       "      <td>http://www.yelp.com/biz/tenoch-mexican-boston</td>\n",
       "      <td>121</td>\n",
       "      <td>4.5</td>\n",
       "      <td>So it's official, folks. We've finished our sa...</td>\n",
       "      <td>North End</td>\n",
       "      <td>42.363309</td>\n",
       "      <td>-71.051800</td>\n",
       "      <td>Mexican</td>\n",
       "      <td>None</td>\n",
       "      <td>None</td>\n",
       "      <td>None</td>\n",
       "      <td>restaurants</td>\n",
       "      <td>mexican</td>\n",
       "      <td>None</td>\n",
       "      <td>3 Lewis St, North End, Boston, MA 02110</td>\n",
       "    </tr>\n",
       "    <tr>\n",
       "      <th>2</th>\n",
       "      <td>2</td>\n",
       "      <td>O Ya</td>\n",
       "      <td>http://www.yelp.com/biz/o-ya-boston</td>\n",
       "      <td>450</td>\n",
       "      <td>4.5</td>\n",
       "      <td>My husband and I came here to celebrate our 20...</td>\n",
       "      <td>Waterfront</td>\n",
       "      <td>42.351408</td>\n",
       "      <td>-71.056867</td>\n",
       "      <td>Japanese</td>\n",
       "      <td>None</td>\n",
       "      <td>None</td>\n",
       "      <td>None</td>\n",
       "      <td>restaurants</td>\n",
       "      <td>japanese</td>\n",
       "      <td>None</td>\n",
       "      <td>9 E St Pl, Waterfront, Boston, MA 02111</td>\n",
       "    </tr>\n",
       "    <tr>\n",
       "      <th>3</th>\n",
       "      <td>3</td>\n",
       "      <td>Locale</td>\n",
       "      <td>http://www.yelp.com/biz/locale-boston</td>\n",
       "      <td>121</td>\n",
       "      <td>4.5</td>\n",
       "      <td>Truly thankful that we stumbled on Locale whil...</td>\n",
       "      <td>North End</td>\n",
       "      <td>42.365085</td>\n",
       "      <td>-71.053187</td>\n",
       "      <td>Italian</td>\n",
       "      <td>Pizza</td>\n",
       "      <td>None</td>\n",
       "      <td>None</td>\n",
       "      <td>restaurants</td>\n",
       "      <td>pizza</td>\n",
       "      <td>italian</td>\n",
       "      <td>352 Hanover St, North End, Boston, MA 02113</td>\n",
       "    </tr>\n",
       "    <tr>\n",
       "      <th>4</th>\n",
       "      <td>4</td>\n",
       "      <td>Neptune Oyster</td>\n",
       "      <td>http://www.yelp.com/biz/neptune-oyster-boston</td>\n",
       "      <td>2487</td>\n",
       "      <td>4.5</td>\n",
       "      <td>Best lobster roll on the whole trip..... and I...</td>\n",
       "      <td>North End</td>\n",
       "      <td>42.363618</td>\n",
       "      <td>-71.056012</td>\n",
       "      <td>Seafood</td>\n",
       "      <td>Live/Raw Food</td>\n",
       "      <td>None</td>\n",
       "      <td>None</td>\n",
       "      <td>restaurants</td>\n",
       "      <td>None</td>\n",
       "      <td>None</td>\n",
       "      <td>63 Salem St, North End, Boston, MA 02113</td>\n",
       "    </tr>\n",
       "    <tr>\n",
       "      <th>...</th>\n",
       "      <td>...</td>\n",
       "      <td>...</td>\n",
       "      <td>...</td>\n",
       "      <td>...</td>\n",
       "      <td>...</td>\n",
       "      <td>...</td>\n",
       "      <td>...</td>\n",
       "      <td>...</td>\n",
       "      <td>...</td>\n",
       "      <td>...</td>\n",
       "      <td>...</td>\n",
       "      <td>...</td>\n",
       "      <td>...</td>\n",
       "      <td>...</td>\n",
       "      <td>...</td>\n",
       "      <td>...</td>\n",
       "      <td>...</td>\n",
       "    </tr>\n",
       "    <tr>\n",
       "      <th>212</th>\n",
       "      <td>336</td>\n",
       "      <td>South Boston Lithuanian Club</td>\n",
       "      <td>http://www.yelp.com/biz/south-boston-lithuania...</td>\n",
       "      <td>13</td>\n",
       "      <td>4.5</td>\n",
       "      <td>This place is delicious!! The thought of anyth...</td>\n",
       "      <td>South Boston</td>\n",
       "      <td>42.337900</td>\n",
       "      <td>-71.048910</td>\n",
       "      <td>Polish</td>\n",
       "      <td>Ukrainian</td>\n",
       "      <td>Ethnic Food</td>\n",
       "      <td>None</td>\n",
       "      <td>ethnicmarkets</td>\n",
       "      <td>None</td>\n",
       "      <td>None</td>\n",
       "      <td>368 W Broadway, South Boston, Boston, MA 02127</td>\n",
       "    </tr>\n",
       "    <tr>\n",
       "      <th>213</th>\n",
       "      <td>337</td>\n",
       "      <td>Sate Asian Grill</td>\n",
       "      <td>http://www.yelp.com/biz/sate-asian-grill-boston-2</td>\n",
       "      <td>19</td>\n",
       "      <td>4.0</td>\n",
       "      <td>This place is excellent. I work right down the...</td>\n",
       "      <td>Waterfront</td>\n",
       "      <td>42.351807</td>\n",
       "      <td>-71.057484</td>\n",
       "      <td>Ethnic Food</td>\n",
       "      <td>Korean</td>\n",
       "      <td>None</td>\n",
       "      <td>None</td>\n",
       "      <td>ethnicmarkets</td>\n",
       "      <td>None</td>\n",
       "      <td>None</td>\n",
       "      <td>89 S St, Waterfront, Boston, MA 02111</td>\n",
       "    </tr>\n",
       "    <tr>\n",
       "      <th>214</th>\n",
       "      <td>339</td>\n",
       "      <td>The Shops at Porter</td>\n",
       "      <td>http://www.yelp.com/biz/the-shops-at-porter-ca...</td>\n",
       "      <td>79</td>\n",
       "      <td>4.0</td>\n",
       "      <td>This is like a small (chibi) version of the Ja...</td>\n",
       "      <td>Porter Square</td>\n",
       "      <td>42.387192</td>\n",
       "      <td>-71.118778</td>\n",
       "      <td>Japanese</td>\n",
       "      <td>Ethnic Food</td>\n",
       "      <td>Shopping</td>\n",
       "      <td>None</td>\n",
       "      <td>ethnicmarkets</td>\n",
       "      <td>None</td>\n",
       "      <td>None</td>\n",
       "      <td>University Hall, 1815 Massachusetts Ave, Porte...</td>\n",
       "    </tr>\n",
       "    <tr>\n",
       "      <th>215</th>\n",
       "      <td>340</td>\n",
       "      <td>Bazaar International Gourmet</td>\n",
       "      <td>http://www.yelp.com/biz/bazaar-international-g...</td>\n",
       "      <td>52</td>\n",
       "      <td>4.0</td>\n",
       "      <td>The Bazaar at 1432 Beacon Street, Brookline Ma...</td>\n",
       "      <td>Coolidge Corner</td>\n",
       "      <td>42.341065</td>\n",
       "      <td>-71.126470</td>\n",
       "      <td>Ethnic Food</td>\n",
       "      <td>Grocery</td>\n",
       "      <td>None</td>\n",
       "      <td>None</td>\n",
       "      <td>ethnicmarkets</td>\n",
       "      <td>None</td>\n",
       "      <td>None</td>\n",
       "      <td>1432 Beacon St, Coolidge Corner, Brookline, MA...</td>\n",
       "    </tr>\n",
       "    <tr>\n",
       "      <th>216</th>\n",
       "      <td>341</td>\n",
       "      <td>G Mart 2 Supermarket</td>\n",
       "      <td>http://www.yelp.com/biz/g-mart-2-supermarket-b...</td>\n",
       "      <td>48</td>\n",
       "      <td>4.0</td>\n",
       "      <td>Everything is inexpensive! I was so surprised ...</td>\n",
       "      <td>Waterfront</td>\n",
       "      <td>42.351569</td>\n",
       "      <td>-71.058365</td>\n",
       "      <td>Grocery</td>\n",
       "      <td>Ethnic Food</td>\n",
       "      <td>None</td>\n",
       "      <td>None</td>\n",
       "      <td>ethnicmarkets</td>\n",
       "      <td>None</td>\n",
       "      <td>None</td>\n",
       "      <td>109 Lincoln St, Waterfront, Boston, MA 02111</td>\n",
       "    </tr>\n",
       "  </tbody>\n",
       "</table>\n",
       "<p>217 rows × 17 columns</p>\n",
       "</div>"
      ],
      "text/plain": [
       "     index                          name  \\\n",
       "0        0                    Wheelhouse   \n",
       "1        1                Tenoch Mexican   \n",
       "2        2                          O Ya   \n",
       "3        3                        Locale   \n",
       "4        4                Neptune Oyster   \n",
       "..     ...                           ...   \n",
       "212    336  South Boston Lithuanian Club   \n",
       "213    337              Sate Asian Grill   \n",
       "214    339           The Shops at Porter   \n",
       "215    340  Bazaar International Gourmet   \n",
       "216    341          G Mart 2 Supermarket   \n",
       "\n",
       "                                                   url  review_count  rating  \\\n",
       "0          http://www.yelp.com/biz/wheelhouse-boston-3           101     4.5   \n",
       "1        http://www.yelp.com/biz/tenoch-mexican-boston           121     4.5   \n",
       "2                  http://www.yelp.com/biz/o-ya-boston           450     4.5   \n",
       "3                http://www.yelp.com/biz/locale-boston           121     4.5   \n",
       "4        http://www.yelp.com/biz/neptune-oyster-boston          2487     4.5   \n",
       "..                                                 ...           ...     ...   \n",
       "212  http://www.yelp.com/biz/south-boston-lithuania...            13     4.5   \n",
       "213  http://www.yelp.com/biz/sate-asian-grill-boston-2            19     4.0   \n",
       "214  http://www.yelp.com/biz/the-shops-at-porter-ca...            79     4.0   \n",
       "215  http://www.yelp.com/biz/bazaar-international-g...            52     4.0   \n",
       "216  http://www.yelp.com/biz/g-mart-2-supermarket-b...            48     4.0   \n",
       "\n",
       "                                          snippet_text        neighborhood  \\\n",
       "0    After going to Wheelhouse, you'll never order ...  Financial District   \n",
       "1    So it's official, folks. We've finished our sa...           North End   \n",
       "2    My husband and I came here to celebrate our 20...          Waterfront   \n",
       "3    Truly thankful that we stumbled on Locale whil...           North End   \n",
       "4    Best lobster roll on the whole trip..... and I...           North End   \n",
       "..                                                 ...                 ...   \n",
       "212  This place is delicious!! The thought of anyth...        South Boston   \n",
       "213  This place is excellent. I work right down the...          Waterfront   \n",
       "214  This is like a small (chibi) version of the Ja...       Porter Square   \n",
       "215  The Bazaar at 1432 Beacon Street, Brookline Ma...     Coolidge Corner   \n",
       "216  Everything is inexpensive! I was so surprised ...          Waterfront   \n",
       "\n",
       "      latitude  longitude           category1      category2    category3  \\\n",
       "0    42.357926 -71.053962  Breakfast & Brunch        Burgers   Sandwiches   \n",
       "1    42.363309 -71.051800             Mexican           None         None   \n",
       "2    42.351408 -71.056867            Japanese           None         None   \n",
       "3    42.365085 -71.053187             Italian          Pizza         None   \n",
       "4    42.363618 -71.056012             Seafood  Live/Raw Food         None   \n",
       "..         ...        ...                 ...            ...          ...   \n",
       "212  42.337900 -71.048910              Polish      Ukrainian  Ethnic Food   \n",
       "213  42.351807 -71.057484         Ethnic Food         Korean         None   \n",
       "214  42.387192 -71.118778            Japanese    Ethnic Food     Shopping   \n",
       "215  42.341065 -71.126470         Ethnic Food        Grocery         None   \n",
       "216  42.351569 -71.058365             Grocery    Ethnic Food         None   \n",
       "\n",
       "    category4 search category1 search category2 search category3  \\\n",
       "0        None      restaurants       sandwiches             None   \n",
       "1        None      restaurants          mexican             None   \n",
       "2        None      restaurants         japanese             None   \n",
       "3        None      restaurants            pizza          italian   \n",
       "4        None      restaurants             None             None   \n",
       "..        ...              ...              ...              ...   \n",
       "212      None    ethnicmarkets             None             None   \n",
       "213      None    ethnicmarkets             None             None   \n",
       "214      None    ethnicmarkets             None             None   \n",
       "215      None    ethnicmarkets             None             None   \n",
       "216      None    ethnicmarkets             None             None   \n",
       "\n",
       "                                       display_address  \n",
       "0    63 Broad St, Financial District, Boston, MA 02109  \n",
       "1              3 Lewis St, North End, Boston, MA 02110  \n",
       "2              9 E St Pl, Waterfront, Boston, MA 02111  \n",
       "3          352 Hanover St, North End, Boston, MA 02113  \n",
       "4             63 Salem St, North End, Boston, MA 02113  \n",
       "..                                                 ...  \n",
       "212     368 W Broadway, South Boston, Boston, MA 02127  \n",
       "213              89 S St, Waterfront, Boston, MA 02111  \n",
       "214  University Hall, 1815 Massachusetts Ave, Porte...  \n",
       "215  1432 Beacon St, Coolidge Corner, Brookline, MA...  \n",
       "216       109 Lincoln St, Waterfront, Boston, MA 02111  \n",
       "\n",
       "[217 rows x 17 columns]"
      ]
     },
     "execution_count": 10,
     "metadata": {},
     "output_type": "execute_result"
    }
   ],
   "source": [
    "dat"
   ]
  },
  {
   "cell_type": "code",
   "execution_count": 11,
   "id": "6cb5aa9e",
   "metadata": {},
   "outputs": [
    {
     "data": {
      "text/plain": [
       "Index(['index', 'name', 'url', 'review_count', 'rating', 'snippet_text',\n",
       "       'neighborhood', 'latitude', 'longitude', 'category1', 'category2',\n",
       "       'category3', 'category4', 'search category1', 'search category2',\n",
       "       'search category3', 'display_address'],\n",
       "      dtype='object')"
      ]
     },
     "execution_count": 11,
     "metadata": {},
     "output_type": "execute_result"
    }
   ],
   "source": [
    "dat.columns"
   ]
  },
  {
   "cell_type": "code",
   "execution_count": 12,
   "id": "0cc93e74",
   "metadata": {},
   "outputs": [],
   "source": [
    "dat.to_json(\"yelp_boston_cleaned.json\", orient=\"records\", indent=4)\n",
    "dat.to_json(\"src/yelp_boston_cleaned.json\", orient=\"records\", indent=4)"
   ]
  },
  {
   "cell_type": "code",
   "execution_count": 14,
   "id": "173e72e0",
   "metadata": {},
   "outputs": [
    {
     "name": "stdout",
     "output_type": "stream",
     "text": [
      "7\n",
      "3519\n"
     ]
    },
    {
     "data": {
      "text/plain": [
       "0.25      53.0\n",
       "0.50     118.0\n",
       "0.75     310.0\n",
       "1.00    3519.0\n",
       "Name: review_count, dtype: float64"
      ]
     },
     "execution_count": 14,
     "metadata": {},
     "output_type": "execute_result"
    }
   ],
   "source": [
    "print(dat[\"review_count\"].min())\n",
    "print(dat[\"review_count\"].max())\n",
    "dat[\"review_count\"].quantile([0.25, 0.5, 0.75, 1.0])"
   ]
  }
 ],
 "metadata": {
  "kernelspec": {
   "display_name": "Python 3 (ipykernel)",
   "language": "python",
   "name": "python3"
  },
  "language_info": {
   "codemirror_mode": {
    "name": "ipython",
    "version": 3
   },
   "file_extension": ".py",
   "mimetype": "text/x-python",
   "name": "python",
   "nbconvert_exporter": "python",
   "pygments_lexer": "ipython3",
   "version": "3.11.1"
  }
 },
 "nbformat": 4,
 "nbformat_minor": 5
}
