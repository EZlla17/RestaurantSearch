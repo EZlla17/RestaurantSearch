{
 "cells": [
  {
   "cell_type": "code",
   "execution_count": 1,
   "id": "38df892b",
   "metadata": {},
   "outputs": [],
   "source": [
    "import numpy as np\n",
    "import pandas as pd\n",
    "import ast"
   ]
  },
  {
   "cell_type": "code",
   "execution_count": 2,
   "id": "767bb6f3",
   "metadata": {
    "scrolled": true
   },
   "outputs": [
    {
     "name": "stdout",
     "output_type": "stream",
     "text": [
      "(343, 11)\n",
      "name                0\n",
      "url                 0\n",
      "review_count        0\n",
      "categories_json     0\n",
      "rating              0\n",
      "snippet_text        0\n",
      "location_json       0\n",
      "neighborhood       77\n",
      "latitude            0\n",
      "longitude           0\n",
      "search category     0\n",
      "dtype: int64\n",
      "(266, 12)\n"
     ]
    }
   ],
   "source": [
    "dat = pd.read_csv(\"yelp_boston.csv\")\n",
    "print(dat.shape)\n",
    "print(dat.isna().sum())\n",
    "dat = dat.dropna().reset_index()\n",
    "print(dat.shape)"
   ]
  },
  {
   "cell_type": "code",
   "execution_count": 3,
   "id": "582b4279",
   "metadata": {},
   "outputs": [
    {
     "data": {
      "text/plain": [
       "array(['Financial District', 'North End', 'Waterfront', 'East Boston',\n",
       "       'Downtown', 'South End', 'Beacon Hill', 'Back Bay', 'South Boston',\n",
       "       'Chinatown', 'Allston/Brighton', 'Charlestown',\n",
       "       'Kendall Square/MIT', 'Dorchester', 'Teele Square',\n",
       "       'Jamaica Plain', 'Inman Square', 'Harvard Square', 'Fenway',\n",
       "       'Mission Hill', 'Porter Square', 'North Cambridge', 'West Roxbury',\n",
       "       'Coolidge Corner'], dtype=object)"
      ]
     },
     "execution_count": 3,
     "metadata": {},
     "output_type": "execute_result"
    }
   ],
   "source": [
    "dat[\"neighborhood\"].unique()"
   ]
  },
  {
   "cell_type": "code",
   "execution_count": 4,
   "id": "1e4dbaee",
   "metadata": {},
   "outputs": [
    {
     "data": {
      "text/plain": [
       "array(['restaurants', 'coffee', 'newamerican', 'french', 'sandwiches',\n",
       "       'cafes', 'indpak', 'sushi', 'japanese', 'chinese', 'mexican',\n",
       "       'thai', 'pizza', 'donuts', 'bakeries', 'italian', 'vietnamese',\n",
       "       'ethnicmarkets'], dtype=object)"
      ]
     },
     "execution_count": 4,
     "metadata": {},
     "output_type": "execute_result"
    }
   ],
   "source": [
    "dat[\"search category\"].unique()"
   ]
  },
  {
   "cell_type": "code",
   "execution_count": 5,
   "id": "053ec679",
   "metadata": {},
   "outputs": [
    {
     "name": "stdout",
     "output_type": "stream",
     "text": [
      "3.5\n",
      "5.0\n"
     ]
    }
   ],
   "source": [
    "print(dat[\"rating\"].min())\n",
    "print(dat[\"rating\"].max())"
   ]
  },
  {
   "cell_type": "code",
   "execution_count": 6,
   "id": "1c9b74a5",
   "metadata": {},
   "outputs": [
    {
     "data": {
      "text/plain": [
       "0      [[\"Breakfast & Brunch\", \"breakfast_brunch\"], [...\n",
       "1                               [[\"Mexican\", \"mexican\"]]\n",
       "2                             [[\"Japanese\", \"japanese\"]]\n",
       "3           [[\"Italian\", \"italian\"], [\"Pizza\", \"pizza\"]]\n",
       "4      [[\"Seafood\", \"seafood\"], [\"Live/Raw Food\", \"ra...\n",
       "                             ...                        \n",
       "261    [[\"Polish\", \"polish\"], [\"Ukrainian\", \"ukrainia...\n",
       "262    [[\"Ethnic Food\", \"ethnicmarkets\"], [\"Korean\", ...\n",
       "263    [[\"Japanese\", \"japanese\"], [\"Ethnic Food\", \"et...\n",
       "264    [[\"Ethnic Food\", \"ethnicmarkets\"], [\"Grocery\",...\n",
       "265    [[\"Grocery\", \"grocery\"], [\"Ethnic Food\", \"ethn...\n",
       "Name: categories_json, Length: 266, dtype: object"
      ]
     },
     "execution_count": 6,
     "metadata": {},
     "output_type": "execute_result"
    }
   ],
   "source": [
    "dat['categories_json']"
   ]
  },
  {
   "cell_type": "code",
   "execution_count": 7,
   "id": "9c293a0e",
   "metadata": {},
   "outputs": [],
   "source": [
    "dat['categories_json'] = dat['categories_json'].apply(lambda x: ast.literal_eval(x) if isinstance(x, str) else x)\n",
    "dat['categories_json'] = dat['categories_json'].apply(lambda lst: [item[0] for item in lst])\n",
    "max_categories = max(dat['categories_json'].apply(len))\n",
    "for i in range(max_categories):\n",
    "    dat[f'category{i+1}'] = dat['categories_json'].apply(lambda x: x[i] if i < len(x) else None)\n",
    "dat = dat.drop(columns=['categories_json'])"
   ]
  },
  {
   "cell_type": "code",
   "execution_count": 8,
   "id": "9a3b29cd",
   "metadata": {},
   "outputs": [
    {
     "data": {
      "text/html": [
       "<div>\n",
       "<style scoped>\n",
       "    .dataframe tbody tr th:only-of-type {\n",
       "        vertical-align: middle;\n",
       "    }\n",
       "\n",
       "    .dataframe tbody tr th {\n",
       "        vertical-align: top;\n",
       "    }\n",
       "\n",
       "    .dataframe thead th {\n",
       "        text-align: right;\n",
       "    }\n",
       "</style>\n",
       "<table border=\"1\" class=\"dataframe\">\n",
       "  <thead>\n",
       "    <tr style=\"text-align: right;\">\n",
       "      <th></th>\n",
       "      <th>index</th>\n",
       "      <th>name</th>\n",
       "      <th>url</th>\n",
       "      <th>review_count</th>\n",
       "      <th>rating</th>\n",
       "      <th>snippet_text</th>\n",
       "      <th>location_json</th>\n",
       "      <th>neighborhood</th>\n",
       "      <th>latitude</th>\n",
       "      <th>longitude</th>\n",
       "      <th>search category</th>\n",
       "      <th>category1</th>\n",
       "      <th>category2</th>\n",
       "      <th>category3</th>\n",
       "      <th>category4</th>\n",
       "    </tr>\n",
       "  </thead>\n",
       "  <tbody>\n",
       "    <tr>\n",
       "      <th>0</th>\n",
       "      <td>0</td>\n",
       "      <td>Wheelhouse</td>\n",
       "      <td>http://www.yelp.com/biz/wheelhouse-boston-3</td>\n",
       "      <td>101</td>\n",
       "      <td>4.5</td>\n",
       "      <td>After going to Wheelhouse, you'll never order ...</td>\n",
       "      <td>{\"cross_streets\": \"Milk St &amp; Batterymarch Arm\"...</td>\n",
       "      <td>Financial District</td>\n",
       "      <td>42.357926</td>\n",
       "      <td>-71.053962</td>\n",
       "      <td>restaurants</td>\n",
       "      <td>Breakfast &amp; Brunch</td>\n",
       "      <td>Burgers</td>\n",
       "      <td>Sandwiches</td>\n",
       "      <td>None</td>\n",
       "    </tr>\n",
       "    <tr>\n",
       "      <th>1</th>\n",
       "      <td>1</td>\n",
       "      <td>Tenoch Mexican</td>\n",
       "      <td>http://www.yelp.com/biz/tenoch-mexican-boston</td>\n",
       "      <td>121</td>\n",
       "      <td>4.5</td>\n",
       "      <td>So it's official, folks. We've finished our sa...</td>\n",
       "      <td>{\"city\": \"Boston\", \"display_address\": [\"3 Lewi...</td>\n",
       "      <td>North End</td>\n",
       "      <td>42.363309</td>\n",
       "      <td>-71.051800</td>\n",
       "      <td>restaurants</td>\n",
       "      <td>Mexican</td>\n",
       "      <td>None</td>\n",
       "      <td>None</td>\n",
       "      <td>None</td>\n",
       "    </tr>\n",
       "    <tr>\n",
       "      <th>2</th>\n",
       "      <td>2</td>\n",
       "      <td>O Ya</td>\n",
       "      <td>http://www.yelp.com/biz/o-ya-boston</td>\n",
       "      <td>450</td>\n",
       "      <td>4.5</td>\n",
       "      <td>My husband and I came here to celebrate our 20...</td>\n",
       "      <td>{\"city\": \"Boston\", \"display_address\": [\"9 E St...</td>\n",
       "      <td>Waterfront</td>\n",
       "      <td>42.351408</td>\n",
       "      <td>-71.056867</td>\n",
       "      <td>restaurants</td>\n",
       "      <td>Japanese</td>\n",
       "      <td>None</td>\n",
       "      <td>None</td>\n",
       "      <td>None</td>\n",
       "    </tr>\n",
       "    <tr>\n",
       "      <th>3</th>\n",
       "      <td>3</td>\n",
       "      <td>Locale</td>\n",
       "      <td>http://www.yelp.com/biz/locale-boston</td>\n",
       "      <td>121</td>\n",
       "      <td>4.5</td>\n",
       "      <td>Truly thankful that we stumbled on Locale whil...</td>\n",
       "      <td>{\"cross_streets\": \"Fleet St &amp; Tileston St\", \"c...</td>\n",
       "      <td>North End</td>\n",
       "      <td>42.365085</td>\n",
       "      <td>-71.053187</td>\n",
       "      <td>restaurants</td>\n",
       "      <td>Italian</td>\n",
       "      <td>Pizza</td>\n",
       "      <td>None</td>\n",
       "      <td>None</td>\n",
       "    </tr>\n",
       "    <tr>\n",
       "      <th>4</th>\n",
       "      <td>4</td>\n",
       "      <td>Neptune Oyster</td>\n",
       "      <td>http://www.yelp.com/biz/neptune-oyster-boston</td>\n",
       "      <td>2487</td>\n",
       "      <td>4.5</td>\n",
       "      <td>Best lobster roll on the whole trip..... and I...</td>\n",
       "      <td>{\"cross_streets\": \"Hull St &amp; Stillman St\", \"ci...</td>\n",
       "      <td>North End</td>\n",
       "      <td>42.363618</td>\n",
       "      <td>-71.056012</td>\n",
       "      <td>restaurants</td>\n",
       "      <td>Seafood</td>\n",
       "      <td>Live/Raw Food</td>\n",
       "      <td>None</td>\n",
       "      <td>None</td>\n",
       "    </tr>\n",
       "    <tr>\n",
       "      <th>...</th>\n",
       "      <td>...</td>\n",
       "      <td>...</td>\n",
       "      <td>...</td>\n",
       "      <td>...</td>\n",
       "      <td>...</td>\n",
       "      <td>...</td>\n",
       "      <td>...</td>\n",
       "      <td>...</td>\n",
       "      <td>...</td>\n",
       "      <td>...</td>\n",
       "      <td>...</td>\n",
       "      <td>...</td>\n",
       "      <td>...</td>\n",
       "      <td>...</td>\n",
       "      <td>...</td>\n",
       "    </tr>\n",
       "    <tr>\n",
       "      <th>261</th>\n",
       "      <td>336</td>\n",
       "      <td>South Boston Lithuanian Club</td>\n",
       "      <td>http://www.yelp.com/biz/south-boston-lithuania...</td>\n",
       "      <td>13</td>\n",
       "      <td>4.5</td>\n",
       "      <td>This place is delicious!! The thought of anyth...</td>\n",
       "      <td>{\"city\": \"Boston\", \"display_address\": [\"368 W ...</td>\n",
       "      <td>South Boston</td>\n",
       "      <td>42.337900</td>\n",
       "      <td>-71.048910</td>\n",
       "      <td>ethnicmarkets</td>\n",
       "      <td>Polish</td>\n",
       "      <td>Ukrainian</td>\n",
       "      <td>Ethnic Food</td>\n",
       "      <td>None</td>\n",
       "    </tr>\n",
       "    <tr>\n",
       "      <th>262</th>\n",
       "      <td>337</td>\n",
       "      <td>Sate Asian Grill</td>\n",
       "      <td>http://www.yelp.com/biz/sate-asian-grill-boston-2</td>\n",
       "      <td>19</td>\n",
       "      <td>4.0</td>\n",
       "      <td>This place is excellent. I work right down the...</td>\n",
       "      <td>{\"city\": \"Boston\", \"display_address\": [\"89 S S...</td>\n",
       "      <td>Waterfront</td>\n",
       "      <td>42.351807</td>\n",
       "      <td>-71.057484</td>\n",
       "      <td>ethnicmarkets</td>\n",
       "      <td>Ethnic Food</td>\n",
       "      <td>Korean</td>\n",
       "      <td>None</td>\n",
       "      <td>None</td>\n",
       "    </tr>\n",
       "    <tr>\n",
       "      <th>263</th>\n",
       "      <td>339</td>\n",
       "      <td>The Shops at Porter</td>\n",
       "      <td>http://www.yelp.com/biz/the-shops-at-porter-ca...</td>\n",
       "      <td>79</td>\n",
       "      <td>4.0</td>\n",
       "      <td>This is like a small (chibi) version of the Ja...</td>\n",
       "      <td>{\"city\": \"Cambridge\", \"display_address\": [\"Uni...</td>\n",
       "      <td>Porter Square</td>\n",
       "      <td>42.387192</td>\n",
       "      <td>-71.118778</td>\n",
       "      <td>ethnicmarkets</td>\n",
       "      <td>Japanese</td>\n",
       "      <td>Ethnic Food</td>\n",
       "      <td>Shopping</td>\n",
       "      <td>None</td>\n",
       "    </tr>\n",
       "    <tr>\n",
       "      <th>264</th>\n",
       "      <td>340</td>\n",
       "      <td>Bazaar International Gourmet</td>\n",
       "      <td>http://www.yelp.com/biz/bazaar-international-g...</td>\n",
       "      <td>52</td>\n",
       "      <td>4.0</td>\n",
       "      <td>The Bazaar at 1432 Beacon Street, Brookline Ma...</td>\n",
       "      <td>{\"city\": \"Brookline\", \"display_address\": [\"143...</td>\n",
       "      <td>Coolidge Corner</td>\n",
       "      <td>42.341065</td>\n",
       "      <td>-71.126470</td>\n",
       "      <td>ethnicmarkets</td>\n",
       "      <td>Ethnic Food</td>\n",
       "      <td>Grocery</td>\n",
       "      <td>None</td>\n",
       "      <td>None</td>\n",
       "    </tr>\n",
       "    <tr>\n",
       "      <th>265</th>\n",
       "      <td>341</td>\n",
       "      <td>G Mart 2 Supermarket</td>\n",
       "      <td>http://www.yelp.com/biz/g-mart-2-supermarket-b...</td>\n",
       "      <td>48</td>\n",
       "      <td>4.0</td>\n",
       "      <td>Everything is inexpensive! I was so surprised ...</td>\n",
       "      <td>{\"cross_streets\": \"Beach St &amp; Tufts St\", \"city...</td>\n",
       "      <td>Waterfront</td>\n",
       "      <td>42.351569</td>\n",
       "      <td>-71.058365</td>\n",
       "      <td>ethnicmarkets</td>\n",
       "      <td>Grocery</td>\n",
       "      <td>Ethnic Food</td>\n",
       "      <td>None</td>\n",
       "      <td>None</td>\n",
       "    </tr>\n",
       "  </tbody>\n",
       "</table>\n",
       "<p>266 rows × 15 columns</p>\n",
       "</div>"
      ],
      "text/plain": [
       "     index                          name  \\\n",
       "0        0                    Wheelhouse   \n",
       "1        1                Tenoch Mexican   \n",
       "2        2                          O Ya   \n",
       "3        3                        Locale   \n",
       "4        4                Neptune Oyster   \n",
       "..     ...                           ...   \n",
       "261    336  South Boston Lithuanian Club   \n",
       "262    337              Sate Asian Grill   \n",
       "263    339           The Shops at Porter   \n",
       "264    340  Bazaar International Gourmet   \n",
       "265    341          G Mart 2 Supermarket   \n",
       "\n",
       "                                                   url  review_count  rating  \\\n",
       "0          http://www.yelp.com/biz/wheelhouse-boston-3           101     4.5   \n",
       "1        http://www.yelp.com/biz/tenoch-mexican-boston           121     4.5   \n",
       "2                  http://www.yelp.com/biz/o-ya-boston           450     4.5   \n",
       "3                http://www.yelp.com/biz/locale-boston           121     4.5   \n",
       "4        http://www.yelp.com/biz/neptune-oyster-boston          2487     4.5   \n",
       "..                                                 ...           ...     ...   \n",
       "261  http://www.yelp.com/biz/south-boston-lithuania...            13     4.5   \n",
       "262  http://www.yelp.com/biz/sate-asian-grill-boston-2            19     4.0   \n",
       "263  http://www.yelp.com/biz/the-shops-at-porter-ca...            79     4.0   \n",
       "264  http://www.yelp.com/biz/bazaar-international-g...            52     4.0   \n",
       "265  http://www.yelp.com/biz/g-mart-2-supermarket-b...            48     4.0   \n",
       "\n",
       "                                          snippet_text  \\\n",
       "0    After going to Wheelhouse, you'll never order ...   \n",
       "1    So it's official, folks. We've finished our sa...   \n",
       "2    My husband and I came here to celebrate our 20...   \n",
       "3    Truly thankful that we stumbled on Locale whil...   \n",
       "4    Best lobster roll on the whole trip..... and I...   \n",
       "..                                                 ...   \n",
       "261  This place is delicious!! The thought of anyth...   \n",
       "262  This place is excellent. I work right down the...   \n",
       "263  This is like a small (chibi) version of the Ja...   \n",
       "264  The Bazaar at 1432 Beacon Street, Brookline Ma...   \n",
       "265  Everything is inexpensive! I was so surprised ...   \n",
       "\n",
       "                                         location_json        neighborhood  \\\n",
       "0    {\"cross_streets\": \"Milk St & Batterymarch Arm\"...  Financial District   \n",
       "1    {\"city\": \"Boston\", \"display_address\": [\"3 Lewi...           North End   \n",
       "2    {\"city\": \"Boston\", \"display_address\": [\"9 E St...          Waterfront   \n",
       "3    {\"cross_streets\": \"Fleet St & Tileston St\", \"c...           North End   \n",
       "4    {\"cross_streets\": \"Hull St & Stillman St\", \"ci...           North End   \n",
       "..                                                 ...                 ...   \n",
       "261  {\"city\": \"Boston\", \"display_address\": [\"368 W ...        South Boston   \n",
       "262  {\"city\": \"Boston\", \"display_address\": [\"89 S S...          Waterfront   \n",
       "263  {\"city\": \"Cambridge\", \"display_address\": [\"Uni...       Porter Square   \n",
       "264  {\"city\": \"Brookline\", \"display_address\": [\"143...     Coolidge Corner   \n",
       "265  {\"cross_streets\": \"Beach St & Tufts St\", \"city...          Waterfront   \n",
       "\n",
       "      latitude  longitude search category           category1      category2  \\\n",
       "0    42.357926 -71.053962     restaurants  Breakfast & Brunch        Burgers   \n",
       "1    42.363309 -71.051800     restaurants             Mexican           None   \n",
       "2    42.351408 -71.056867     restaurants            Japanese           None   \n",
       "3    42.365085 -71.053187     restaurants             Italian          Pizza   \n",
       "4    42.363618 -71.056012     restaurants             Seafood  Live/Raw Food   \n",
       "..         ...        ...             ...                 ...            ...   \n",
       "261  42.337900 -71.048910   ethnicmarkets              Polish      Ukrainian   \n",
       "262  42.351807 -71.057484   ethnicmarkets         Ethnic Food         Korean   \n",
       "263  42.387192 -71.118778   ethnicmarkets            Japanese    Ethnic Food   \n",
       "264  42.341065 -71.126470   ethnicmarkets         Ethnic Food        Grocery   \n",
       "265  42.351569 -71.058365   ethnicmarkets             Grocery    Ethnic Food   \n",
       "\n",
       "       category3 category4  \n",
       "0     Sandwiches      None  \n",
       "1           None      None  \n",
       "2           None      None  \n",
       "3           None      None  \n",
       "4           None      None  \n",
       "..           ...       ...  \n",
       "261  Ethnic Food      None  \n",
       "262         None      None  \n",
       "263     Shopping      None  \n",
       "264         None      None  \n",
       "265         None      None  \n",
       "\n",
       "[266 rows x 15 columns]"
      ]
     },
     "execution_count": 8,
     "metadata": {},
     "output_type": "execute_result"
    }
   ],
   "source": [
    "dat"
   ]
  },
  {
   "cell_type": "code",
   "execution_count": 9,
   "id": "2130895a",
   "metadata": {},
   "outputs": [
    {
     "data": {
      "text/plain": [
       "Index(['index', 'name', 'url', 'review_count', 'rating', 'snippet_text',\n",
       "       'location_json', 'neighborhood', 'latitude', 'longitude',\n",
       "       'search category', 'category1', 'category2', 'category3', 'category4'],\n",
       "      dtype='object')"
      ]
     },
     "execution_count": 9,
     "metadata": {},
     "output_type": "execute_result"
    }
   ],
   "source": [
    "dat.columns"
   ]
  },
  {
   "cell_type": "code",
   "execution_count": null,
   "id": "60f485ff",
   "metadata": {},
   "outputs": [],
   "source": [
    "dat.to_json(\"bgg_dataset_cleaned.json\", orient=\"records\", indent=4)"
   ]
  },
  {
   "cell_type": "code",
   "execution_count": 13,
   "id": "e4682fd9",
   "metadata": {},
   "outputs": [
    {
     "data": {
      "text/plain": [
       "41"
      ]
     },
     "execution_count": 13,
     "metadata": {},
     "output_type": "execute_result"
    }
   ],
   "source": [
    "len(dat[\"category1\"].unique())"
   ]
  }
 ],
 "metadata": {
  "kernelspec": {
   "display_name": "Python 3 (ipykernel)",
   "language": "python",
   "name": "python3"
  },
  "language_info": {
   "codemirror_mode": {
    "name": "ipython",
    "version": 3
   },
   "file_extension": ".py",
   "mimetype": "text/x-python",
   "name": "python",
   "nbconvert_exporter": "python",
   "pygments_lexer": "ipython3",
   "version": "3.11.1"
  }
 },
 "nbformat": 4,
 "nbformat_minor": 5
}
